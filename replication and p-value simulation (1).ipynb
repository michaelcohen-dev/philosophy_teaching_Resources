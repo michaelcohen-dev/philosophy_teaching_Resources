{
  "metadata": {
    "language_info": {
      "codemirror_mode": {
        "name": "python",
        "version": 3
      },
      "file_extension": ".py",
      "mimetype": "text/x-python",
      "name": "python",
      "nbconvert_exporter": "python",
      "pygments_lexer": "ipython3",
      "version": "3.8"
    },
    "kernelspec": {
      "name": "python",
      "display_name": "Python (Pyodide)",
      "language": "python"
    }
  },
  "nbformat_minor": 4,
  "nbformat": 4,
  "cells": [
    {
      "cell_type": "markdown",
      "source": "# Simultion a scinetific method with a particular p-value\n### Michael Cohen\n\nIn this simple simulation, we have a method to test hypotheses  (called hypothsis_testing_method).\nIf the hypothsis is true, the method will say so.\nIf the hypothsis is in fact false, the method will say it is true with a low probably (called my_p_value).\n\nNevertheless, if among our hypothses, the vast majority of them are in fact false (determied by setting rate_of_true_hypothses to have alow value), then among the hypothses that our method say that are true, many in fact will be false. To see the exact values, run the cell.",
      "metadata": {}
    },
    {
      "cell_type": "code",
      "source": "import random\n\n\n# this value is the probablity that our method will say \n# that a hypothsis is true, if it is in fact false.\nmy_p_value = 0.04 # value like in the tutorial exercise \n\n# This function takes a boolean (actual truth value of a given hypothsis)\n# and returns a boolean (the predicted truth value of the hypthesis according to the method).\ndef hypothsis_testing_method(hypothesis):\n    \n    # This means that whenever the hypothsis is true\n    # the method will predict so\n    if hypothesis is True:\n        return True\n    \n    \n    # This means that whenever the hypothsis is false\n    # the method will say its false (1 - my_p_value) of the times   \n    else:    \n        random_bool = random.random() > my_p_value\n        return not random_bool\n        \n    \n# The number of hypothses we are going to check\nhypothses_num = 1300\n\n# the rate of true hypothses among them\nrate_of_true_hypothses = 0.038 # like in the tutorial exercise \n\n#we will cuont these integers in our experiment\ntrue_hypothses = 0\nfalse_hypothses = 0\nmethod_predicted_true = 0\nmethod_predicted_false = 0\n\nfor i in range(hypothses_num):\n    \n    # deciding if the current hypothsis is true or false\n    current_hypothesis = random.random() < rate_of_true_hypothses\n    \n    if current_hypothesis:\n        true_hypothses += 1\n    else: \n        false_hypothses += 1\n    \n    # Testing the current hypothsis with our method\n    if hypothsis_testing_method(current_hypothesis):\n        method_predicted_true += 1\n    \n    else:\n        method_predicted_false += 1\n    \n   \nprint(\"Our method predicted true \",method_predicted_true, \" times\")\nprint(\"The hypothses was in fact true \", true_hypothses, \"times\")\nprint(\"The probablity that the hypothsis is in fact true if the method says so is\")\nprint(true_hypothses/method_predicted_true)\n    ",
      "metadata": {
        "trusted": true
      },
      "execution_count": 13,
      "outputs": [
        {
          "name": "stdout",
          "text": "Our method predicted true  114  times\nThe hypothses was in fact true  64 times\nThe probablity that the hypothsis is in fact true if the method says so is\n0.5614035087719298\n",
          "output_type": "stream"
        }
      ]
    },
    {
      "cell_type": "code",
      "source": "",
      "metadata": {},
      "execution_count": null,
      "outputs": []
    },
    {
      "cell_type": "code",
      "source": "",
      "metadata": {},
      "execution_count": null,
      "outputs": []
    }
  ]
}