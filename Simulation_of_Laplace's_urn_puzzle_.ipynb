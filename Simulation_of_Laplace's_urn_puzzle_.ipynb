{
  "nbformat": 4,
  "nbformat_minor": 0,
  "metadata": {
    "colab": {
      "provenance": []
    },
    "kernelspec": {
      "name": "python3",
      "display_name": "Python 3"
    },
    "language_info": {
      "name": "python"
    }
  },
  "cells": [
    {
      "cell_type": "markdown",
      "source": [
        "# Simulation of Laplace's urn puzzle\n",
        "This simulation follows the discussion in chapter 7 of the book *Odds and Ends* by Jonathan Weisberg.\n",
        "Here is a probability puzzle that (appeartly) goes back to the days of Laplace:\n",
        "There are two urns of coloured marbles infront of you:\n",
        "*   Urn X contains 3 black marbles, 1 white.\n",
        "*  Urn Y contains 1 black marble, 3 white.\n",
        "\n",
        "I toss a fair coin to decide from which urn to sample, and then start sampling from the choosen urn with replacement.\n",
        "Two questions:\n",
        "\n",
        "1.   Given that procedure, what is the probability that the first sampled marble is black?\n",
        "2.   What is the probability that the first two sampled marbled are black?\n",
        "#### **Answer to 1**:\n",
        "We can use the law of total probability: $P(B) = P(B|U_X)P(U_X) + P(B|U_Y)P(U_Y) $\n",
        "$P(B) =  \\frac{3}{4} \\times \\frac{1}{2} + \\frac{1}{4} \\times \\frac{1}{2} = \\frac{1}{2}$\n",
        "#### **Answering 2**:\n",
        "Since the answer to 1 is $\\frac{1}{2}$ and the process we follow seems fair (coin is fair, we draw with replacement), the intuitive answer seems to be $\\frac{1}{2} \\times \\frac{1}{2}$.\n",
        "But the answer is wrong! We can use a simulation to get a sense of the right answer.\n",
        "\n",
        "As usual, we are going to run a simulation according to the rules of the puzzle, count the number of times we get two black balls, and divide that with the number of runs of the simulation\n",
        "\n",
        "\n",
        "\n",
        "\n",
        "\n",
        "\n"
      ],
      "metadata": {
        "id": "zHAyFMJeZBPH"
      }
    },
    {
      "cell_type": "code",
      "execution_count": 5,
      "metadata": {
        "colab": {
          "base_uri": "https://localhost:8080/"
        },
        "id": "KDldrJ-8ZAm0",
        "outputId": "fb0e10d0-1f02-4a6f-f801-4e67e67ce127"
      },
      "outputs": [
        {
          "output_type": "stream",
          "name": "stdout",
          "text": [
            "The fraction of two blacks among all runs is\n",
            "0.3143\n"
          ]
        }
      ],
      "source": [
        "import random\n",
        "\n",
        "RUNS = 10000\n",
        "\n",
        "two_blacks = 0\n",
        "\n",
        "for _ in range(RUNS):\n",
        "\n",
        "  urn_x = ['B','B', 'B', 'W']\n",
        "  urn_y = ['W','W', 'W', 'B']\n",
        "\n",
        "  # here we toss the coin to decide if it is urn x or urn y\n",
        "  urn_x_choosen = random.randint(0,1)\n",
        "\n",
        "  if urn_x_choosen:\n",
        "\n",
        "    if random.choice(urn_x) == 'B' and random.choice(urn_x) == 'B':\n",
        "\n",
        "      two_blacks += 1\n",
        "\n",
        "  else:\n",
        "\n",
        "    if random.choice(urn_y) == 'B' and random.choice(urn_y) == 'B':\n",
        "\n",
        "      two_blacks += 1\n",
        "\n",
        "\n",
        "print(\"The fraction of two blacks among all runs is\")\n",
        "print(two_blacks/RUNS)"
      ]
    }
  ]
}