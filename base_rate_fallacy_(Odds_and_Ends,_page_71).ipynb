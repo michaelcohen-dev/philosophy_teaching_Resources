{
  "nbformat": 4,
  "nbformat_minor": 0,
  "metadata": {
    "colab": {
      "provenance": []
    },
    "kernelspec": {
      "name": "python3",
      "display_name": "Python 3"
    },
    "language_info": {
      "name": "python"
    }
  },
  "cells": [
    {
      "cell_type": "markdown",
      "source": [
        "# The base rate fallacy with the blue-green cab example\n",
        "This simulation is based on the base rate fallacy eample given in page 71 of the book *Odds and Ends* by Jonathan Weisberg, [avilable freely here ](https://jonathanweisberg.org/vip/chbayes.html#chbayes).\n",
        "\n"
      ],
      "metadata": {
        "id": "eXrg6RApeUr6"
      }
    },
    {
      "cell_type": "markdown",
      "source": [
        "In the cab example, we are trying to calculate\n",
        "\n",
        " $P(cab\\;is\\;blue| witness\\;said\\; blue).$\n",
        "\n",
        " This is by definition just\n",
        "\n",
        " $\\frac{P(cab\\;is\\;blue\\; and\\; witness\\;said\\; blue)}{P(witness\\;said\\; blue)}$\n",
        "\n",
        "We can approximate this fraction by simulating the situation many times and count the times the cab was actually blue and the witness said so vs. the times the witness said so. In other words:\n",
        "\n",
        " $\\frac{\\text{#}(cab\\;is\\;blue\\; and\\; witness\\;said\\; blue)}{\\text{#}(witness\\;said\\; blue)}$\n",
        "\n",
        " This is what the following piece of code does. Note how changing the base rate\n",
        " changes   $P(cab\\;is\\;blue| witness\\;said\\; blue) $ significantly!\n"
      ],
      "metadata": {
        "id": "JZRcXS5Vnlrs"
      }
    },
    {
      "cell_type": "code",
      "execution_count": null,
      "metadata": {
        "colab": {
          "base_uri": "https://localhost:8080/"
        },
        "id": "PwfSujSaeQSA",
        "outputId": "0c3ec264-e7ce-46f0-c7b1-b705c4f9b78a"
      },
      "outputs": [
        {
          "output_type": "stream",
          "name": "stdout",
          "text": [
            "P(actually blue and witness said blue | witness said blue)\n",
            "# actually blue and witness said blue / # witness said blue\n",
            "0.1813580767608604\n"
          ]
        }
      ],
      "source": [
        "import random\n",
        "\n",
        "RUNS = 10000\n",
        "\n",
        "# we need the following counts to calculate\n",
        "# P(blue_cab|witness_said_blue):\n",
        "\n",
        "witness_said_blue = 0\n",
        "witness_said_blue_and_blue = 0\n",
        "\n",
        "\n",
        "# IMPORTANT:\n",
        "# This the base rate in our example\n",
        "# change this value to control the base rate\n",
        "# (in the textbook example, it is 0.15)\n",
        "fraction_of_blue_cabs = 0.05\n",
        "\n",
        "# This is the probability that the witness is correct,\n",
        "# given the color of the cab.\n",
        "reliability_of_witness = 0.8\n",
        "\n",
        "for i in range(RUNS):\n",
        "\n",
        "  # determine if the cab is green or blue in this run\n",
        "  if random.random() < fraction_of_blue_cabs:\n",
        "    cab_is_blue = True\n",
        "  else:\n",
        "    cab_is_blue = False\n",
        "\n",
        "  # determine if the testifier saw correctly in this run\n",
        "  if random.random() < reliability_of_witness:\n",
        "    witness_is_correct = True\n",
        "  else:\n",
        "    witness_is_correct = False\n",
        "\n",
        "  # There are two situations in which the testifier said\n",
        "  # they saw a blue cab:\n",
        "\n",
        "  # 1. the cab was actually blue and they were correct\n",
        "  if cab_is_blue and witness_is_correct:\n",
        "\n",
        "    witness_said_blue_and_blue += 1\n",
        "    witness_said_blue += 1\n",
        "\n",
        "  # 2. the cab was green and the witness was incorrect\n",
        "  if not cab_is_blue and not witness_is_correct:\n",
        "\n",
        "    witness_said_blue += 1\n",
        "\n",
        "print(\"P(actually blue and witness said blue | witness said blue)\")\n",
        "print(\"# actually blue and witness said blue / # witness said blue\")\n",
        "print(witness_said_blue_and_blue/witness_said_blue)\n",
        "\n",
        "\n",
        "\n",
        "\n"
      ]
    }
  ]
}