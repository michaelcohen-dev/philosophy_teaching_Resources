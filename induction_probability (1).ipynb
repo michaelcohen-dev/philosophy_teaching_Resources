{
  "metadata": {
    "language_info": {
      "codemirror_mode": {
        "name": "python",
        "version": 3
      },
      "file_extension": ".py",
      "mimetype": "text/x-python",
      "name": "python",
      "nbconvert_exporter": "python",
      "pygments_lexer": "ipython3",
      "version": "3.8"
    },
    "kernelspec": {
      "name": "python",
      "display_name": "Python (Pyodide)",
      "language": "python"
    }
  },
  "nbformat_minor": 4,
  "nbformat": 4,
  "cells": [
    {
      "cell_type": "markdown",
      "source": "# The problem of induction - the mystery coin example\n\n\nWe are looking for: $P(H_3 | H_1, H_2) = \\; ? $\n\nSo, in terms of counting runs of a simulation, we look for $\\frac{\\# (H_1, H_2, H_3)}{\\#(H_1, H_2)}$",
      "metadata": {}
    },
    {
      "cell_type": "markdown",
      "source": "### Simulation under the rule of succession condition",
      "metadata": {}
    },
    {
      "cell_type": "code",
      "source": "import random\nRUNS = 10000\n\ncount_three_heads = 0\ncount_two_heads = 0\n\n# the rule of scucession set up\nfor i in range(RUNS):\n\n  bias = random.random()\n\n  coin1_heads = random.random() < bias\n  coin2_heads = random.random() < bias\n  coin3_heads = random.random() < bias\n\n  if coin1_heads and coin2_heads:\n    count_two_heads += 1\n\n    if coin3_heads:\n      count_three_heads += 1\n\nprint(count_three_heads/count_two_heads)",
      "metadata": {
        "trusted": true
      },
      "execution_count": 11,
      "outputs": [
        {
          "name": "stdout",
          "text": "0.7518007202881153\n",
          "output_type": "stream"
        }
      ]
    },
    {
      "cell_type": "markdown",
      "source": "### Simulation under the prior assumption that each sequence of coins is equally likely ",
      "metadata": {}
    },
    {
      "cell_type": "code",
      "source": "import random\n\nRUNS = 10000\n\ncount_three_heads = 0\ncount_two_heads = 0\n\nfor i in range(RUNS):\n\n    #This radomization makes sure that each sequence of [c1,c2,c3] is equally probable    \n    coin1_heads = random.randint(0,1)\n    coin2_heads = random.randint(0,1)\n    coin3_heads = random.randint(0,1)\n\n    if coin1_heads and coin2_heads:\n      \n      count_two_heads += 1\n\n      if coin3_heads:\n        count_three_heads += 1\n\nprint(count_three_heads/count_two_heads)\n",
      "metadata": {
        "trusted": true
      },
      "execution_count": 5,
      "outputs": [
        {
          "name": "stdout",
          "text": "0.5069501226492232\n",
          "output_type": "stream"
        }
      ]
    },
    {
      "cell_type": "markdown",
      "source": "### Simulation under the prior assumption that each number of heads is equally liekly ",
      "metadata": {}
    },
    {
      "cell_type": "code",
      "source": "import random\n\nRUNS = 10000\n\ncount_three_heads = 0\ncount_two_heads = 0\n\nfor i in range(RUNS):\n\n    num_heads = random.randint(0,3)\n    \n    if num_heads == 3:\n        count_three_heads +=1\n        count_two_heads +=1\n    \n    if num_heads == 2:\n        tails_positon = random.randint(0,2) \n        \n        if tails_positon == 2:\n            count_two_heads +=1\n\nprint(count_three_heads/count_two_heads)",
      "metadata": {
        "trusted": true
      },
      "execution_count": 9,
      "outputs": [
        {
          "name": "stdout",
          "text": "0.7576301615798923\n",
          "output_type": "stream"
        }
      ]
    }
  ]
}