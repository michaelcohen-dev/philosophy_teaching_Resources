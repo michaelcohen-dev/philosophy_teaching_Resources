{
  "cells": [
    {
      "cell_type": "markdown",
      "metadata": {
        "id": "S2Xz5cENL1OF"
      },
      "source": [
        "# Simple Pólya urn simulation\n",
        "\n",
        "This notebook follows the discussion in chapters 4 and 10 of the book *Odds and ends* by Jonathan Weisberg, [available here](https://jonathanweisberg.org/vip/the-gamblers-fallacy.html#the-gamblers-fallacy).\n",
        "\n",
        "We have heard about urns and about sampling those urns with and without replacement:\n",
        "\n",
        "\n",
        "*   When sampling with replacement, when we take out a marble, we put it back in the urn.  \n",
        "*   When sampling without replacement, when we take out a marble, we don't put it back in the urn.  \n",
        "\n",
        "A Pólya urn involves a different type of procedure:  when we take out a marble, we put it back in the urn and put **one extra marble** of the same colour into the urn. So, the number of marbles in the urn keeps growing as we sample.\n",
        "\n",
        "Run this simulation to see how the Pólya urn changes over time. You can change\n",
        "\n",
        "```\n",
        " my_urn = ['B', 'W']\n",
        "```\n",
        "\n",
        "to internalize different urns."
      ]
    },
    {
      "cell_type": "code",
      "execution_count": 4,
      "metadata": {
        "colab": {
          "base_uri": "https://localhost:8080/"
        },
        "id": "BjDJD7MJLp85",
        "outputId": "c13bfaa3-11d1-49d8-b55c-bdf03e67c849"
      },
      "outputs": [
        {
          "name": "stdout",
          "output_type": "stream",
          "text": [
            "the urn now\n",
            "['B', 'W']\n",
            "we sampled a  W  marble.\n",
            "the urn now\n",
            "['B', 'W', 'W']\n",
            "we sampled a  W  marble.\n",
            "the urn now\n",
            "['B', 'W', 'W', 'W']\n",
            "we sampled a  B  marble.\n",
            "the urn now\n",
            "['B', 'W', 'W', 'W', 'B']\n",
            "we sampled a  W  marble.\n",
            "the urn now\n",
            "['B', 'W', 'W', 'W', 'B', 'W']\n",
            "we sampled a  W  marble.\n",
            "the urn now\n",
            "['B', 'W', 'W', 'W', 'B', 'W', 'W']\n",
            "we sampled a  W  marble.\n",
            "the urn now\n",
            "['B', 'W', 'W', 'W', 'B', 'W', 'W', 'W']\n",
            "we sampled a  W  marble.\n",
            "the urn now\n",
            "['B', 'W', 'W', 'W', 'B', 'W', 'W', 'W', 'W']\n",
            "we sampled a  W  marble.\n",
            "the urn now\n",
            "['B', 'W', 'W', 'W', 'B', 'W', 'W', 'W', 'W', 'W']\n",
            "we sampled a  W  marble.\n",
            "the urn now\n",
            "['B', 'W', 'W', 'W', 'B', 'W', 'W', 'W', 'W', 'W', 'W']\n",
            "we sampled a  W  marble.\n"
          ]
        },
        {
          "data": {
            "text/plain": [
              "['B', 'W', 'W', 'W', 'B', 'W', 'W', 'W', 'W', 'W', 'W', 'W']"
            ]
          },
          "execution_count": 4,
          "metadata": {},
          "output_type": "execute_result"
        }
      ],
      "source": [
        "import random\n",
        "\n",
        "def polya(urn, sampling_num):\n",
        "\n",
        "  for i in range(sampling_num):\n",
        "    print(\"the urn now\")\n",
        "    print(urn)\n",
        "\n",
        "    sampled_marble = random.choice(urn)\n",
        "    print(\"we sampled a \", sampled_marble, \" marble.\")\n",
        "    urn += sampled_marble\n",
        "\n",
        "  return urn\n",
        "\n",
        "my_urn = ['B', 'W']\n",
        "polya(my_urn, 10)"
      ]
    },
    {
      "cell_type": "markdown",
      "metadata": {
        "id": "5LWsbh7KS2A-"
      },
      "source": [
        "\n",
        "\n",
        "What makes the Polya urn interesting? We can think of the Pólya urn as a simple model for inductive reasoning about some unknown proportion in nature, where the urn models our subjective estimation. Say (as usual) that you want to know the proportion of red to non-red squirrels in the University forest. Before going into the forest, you have a $0.5$ probability that the next squirrel you observe is a red. We can model this situation as the urn ```['red', 'not-red']```.\n",
        "\n",
        "When you see a red squirrel, you become a bit more confident that there are more red squirrels in the forest: you change the urn to be ```['red', 'not-red', 'red']```. Now the probability of seeing a red squirrel is $\\frac{2}{3}$. This is the same process as the Polya urn sampling process.\n",
        "\n",
        "In fact, if you start with an urn with exactly one positive instance and one negative instance ```['positive','negative']```, and you update the urn in the as a Polya urn whenever you make an observation, then your probabilities will match those prescribed the **rule of succession**.\n",
        "\n",
        "According to the rule of succession, after $n$ observation, $k$ of which are positive, and $n-k$ are negative, the probability that the $n+1$ observation is positive is $\\frac{k+1}{n+2}$.\n",
        "\n",
        " From the urn perspective, you start with a ```['positive','negative']``` Polya urn. After $n$ observation, you add $n$ objects to your urn. So the urn size is $n+2$ (the urn started with two objects). Among the $n$ observations, $k$ of which are positive. So you will have $k+1$ positive objects (we started with one positive object). So the fraction of positive objects in the urn is $\\frac{k+1}{n+2}$, just like the rule of succession.\n",
        "\n",
        "\n",
        "\n",
        "\n"
      ]
    }
  ],
  "metadata": {
    "colab": {
      "provenance": []
    },
    "kernelspec": {
      "display_name": "Python 3",
      "name": "python3"
    },
    "language_info": {
      "name": "python"
    }
  },
  "nbformat": 4,
  "nbformat_minor": 0
}
