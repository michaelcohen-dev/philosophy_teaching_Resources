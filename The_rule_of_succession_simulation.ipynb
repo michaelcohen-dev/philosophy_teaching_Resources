{
  "nbformat": 4,
  "nbformat_minor": 0,
  "metadata": {
    "colab": {
      "provenance": []
    },
    "kernelspec": {
      "name": "python3",
      "display_name": "Python 3"
    },
    "language_info": {
      "name": "python"
    }
  },
  "cells": [
    {
      "cell_type": "markdown",
      "source": [
        "# The Rule of succession as a simulation\n",
        "\n",
        "This simulation follows the disscusion in Section 10.3 of the book *Odds and Ends* by Jonathan Weisberg,[ avilable here ](https://jonathanweisberg.org/vip/probability-induction.html#probability-induction)\n",
        "\n",
        "Suppose we made $n$ observations, among which $k$ were positive. For instance, we saw 100 ravens ($n$, the number of observations), and 90 of them were black ($k$, the number positive condition, where black = positive)). If we take the positive condition to be 1 and the negative to be 0, we are after:\n",
        "\n",
        "$P(X_{n+1} = 1 | X_1 +.. + X_{n} =k )$\n",
        "\n",
        "(we conditionalize on the fact that out of the $n$ observations, $k$ werer positive)\n",
        "\n",
        "There is a way to prove that $$P(X_{n+1} = 1 | X_1 +.. + X_{n} =k ) = \\frac{k+1}{n+2}$$ but here, instead of proving that, we get a sense of this result by running a simulation.\n",
        "\n",
        "## How it works\n",
        "\n",
        "Like with other simulation, we can appraoximate this conditional probability by running a simulation many times, and couunting the number of times where the nominator holds divded by the times the denominaror holds:\n",
        "\n",
        " $$\\frac{\\# (X_{n+1} = 1 \\text{ and } X_1 +.. + X_{n} =k) }{ \\#(X_1 +.. + X_{n} =k)}$$\n",
        "\n",
        "\n",
        "\n",
        "The simulation asks you to provide $n$ and $k$ numbers as inputs. The simulation will run 10000 times (but you can change that). At each run, an unkown bias is choosen at random (this corresponds to the true proporition of black ravens). Given that bias, we create a list of of length $n$, where the probability of en element in the list being 1 equals the random bias. We then count the number of runs in which there were $k$ 1's among in the list (the denominator), and the the number of times that the n+1 element was 1 as well.\n",
        "(this simulation will no run on particular type of edge case, try to figure which)\n",
        "\n"
      ],
      "metadata": {
        "id": "LrY1koFTCXXg"
      }
    },
    {
      "cell_type": "code",
      "execution_count": 4,
      "metadata": {
        "colab": {
          "base_uri": "https://localhost:8080/"
        },
        "id": "46B0_fQBBRbW",
        "outputId": "07c46b95-1201-4404-bf2b-c7302981391d"
      },
      "outputs": [
        {
          "output_type": "stream",
          "name": "stdout",
          "text": [
            "Enter the number of experiments (or n):\n",
            "2\n",
            "Enter the number of positive observations (or k):\n",
            "1\n",
            "simulation result:\n",
            "0.5031963470319635\n",
            "\n",
            "Rule of succession result:\n",
            "0.5\n"
          ]
        }
      ],
      "source": [
        "import random\n",
        "RUNS = 10000\n",
        "\n",
        "print('Enter the number of experiments (or n):')\n",
        "N = int(input())\n",
        "\n",
        "print('Enter the number of positive observations (or k):')\n",
        "K = int(input())\n",
        "if (K>N):\n",
        "  print(\"k cannot be larger than n\")\n",
        "\n",
        "\n",
        "\n",
        "\n",
        "\n",
        "\n",
        "denominator_count = 0\n",
        "nominator_count = 0\n",
        "\n",
        "for _ in range(RUNS):\n",
        "\n",
        "  unknown_bias = random.random()\n",
        "\n",
        "  results = []\n",
        "  for n in range(N):\n",
        "    results.append(random.random() < unknown_bias)\n",
        "\n",
        "  last_one = random.random() < unknown_bias\n",
        "\n",
        "  if sum(results) == K:\n",
        "\n",
        "    denominator_count+=1\n",
        "\n",
        "    if last_one:\n",
        "      nominator_count +=1\n",
        "\n",
        "print(\"simulation result:\")\n",
        "if denominator_count != 0:\n",
        "  print(nominator_count/denominator_count)\n",
        "\n",
        "else:\n",
        "  print(\"There were 0 runs with k positives\")\n",
        "\n",
        "\n",
        "print()\n",
        "print(\"Rule of succession result:\")\n",
        "print((K+1)/(N+2))\n",
        "\n",
        "\n",
        "\n"
      ]
    }
  ]
}