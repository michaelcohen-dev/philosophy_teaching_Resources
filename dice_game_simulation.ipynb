{
  "cells": [
    {
      "cell_type": "markdown",
      "metadata": {
        "id": "iw7vD5sd-z70"
      },
      "source": [
        "# Dice game simulation\n",
        "\n",
        "(From Tutorial 4, Critical and Scientific thinking, Semester 1, 2022, Tilburg University)\n",
        "\n",
        "Here is a simple game:\n",
        "* We have two fair dice.\n",
        "* I throw one dice, you don’t see what I got.\n",
        "* To win, you need to get a higher number with the second dice.\n",
        "\n",
        "What is your chance of winning?\n",
        "\n",
        "*Maybe* you have the intuitive response that this game is fair and therefore the answer should be 0.5. The correct answer is in fact $\\frac{5}{12}$. It's more likely that you will lose. There are many ways to get to this answer, but I suggest getting $P(win)$ by using the law of total probability, where the exclusive and exhaustive set of events we condition on is the possible results of the first dice. But this is just a suggestion! \n",
        "\n",
        "Alternatively, we can run this simple simulation to get an approximation of the result."
      ]
    },
    {
      "cell_type": "code",
      "execution_count": 1,
      "metadata": {
        "colab": {
          "base_uri": "https://localhost:8080/"
        },
        "id": "0_Gg47AN-nhN",
        "outputId": "afda4279-8733-4c7e-9eb6-abb968cc6d00"
      },
      "outputs": [
        {
          "name": "stdout",
          "output_type": "stream",
          "text": [
            "wins to runs:  45 / 120\n"
          ]
        }
      ],
      "source": [
        "import random\n",
        "RUNS = 120\n",
        "\n",
        "wins = 0\n",
        "\n",
        "for i in range(RUNS):\n",
        "\n",
        "  first_dice = random.randint(1,6)\n",
        "  second_dice = random.randint(1,6)\n",
        "\n",
        "  if second_dice > first_dice:\n",
        "\n",
        "    wins+=1\n",
        "\n",
        "\n",
        "print(\"wins to runs: \", wins, \"/\", RUNS )\n",
        "\n",
        "\n",
        "\n"
      ]
    }
  ],
  "metadata": {
    "colab": {
      "provenance": []
    },
    "kernelspec": {
      "display_name": "Python 3",
      "name": "python3"
    },
    "language_info": {
      "name": "python"
    }
  },
  "nbformat": 4,
  "nbformat_minor": 0
}
