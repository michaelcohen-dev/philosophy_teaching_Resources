{
  "cells": [
    {
      "cell_type": "markdown",
      "metadata": {},
      "source": [
        "# Simulation of a simple example of a replication crisis for a scientific method\n",
        "### Michael Cohen\n",
        "\n",
        "In this simple simulation, we have a method to test hypotheses  (called hypothsis_testing_method).\n",
        "If the hypothsis is true, the method will say so.\n",
        "If the hypothsis is in fact false, the method will say it is true with a low probably (called my_p_value).\n",
        "\n",
        "Nevertheless, if among our hypothses, the vast majority of them are in fact false (determied by setting rate_of_true_hypothses to have alow value), then among the hypothses that our method say that are true, many in fact will be false. To see the exact values, run the cell.\n",
        "\n",
        "This simulation demonstrates how it is possible that a scientific method that seems to have very good performance (in terms of its recall and p-value) can still produce many false positives, if the majority of the hypotheses considered are in fact false. If this sounds to you like the base rate fallacy, you are in right track!\n",
        "\n",
        "For further information, see the example mentioned in this Veritasium video (minute 2:30 onwards):\n",
        "[Is Most Published Research Wrong?\n",
        "](https://www.youtube.com/watch?v=42QuXLucH3Q)\n",
        "\n",
        "For the connection between the base rate fallacy and the replication crisis, see for instance:\n",
        "\n",
        "[Understanding the Replication Crisis as a Base Rate Fallacy\n",
        "](https://www.journals.uchicago.edu/doi/full/10.1093/bjps/axy051)\n"
      ]
    },
    {
      "cell_type": "code",
      "execution_count": 13,
      "metadata": {
        "trusted": true
      },
      "outputs": [
        {
          "name": "stdout",
          "output_type": "stream",
          "text": [
            "Our method predicted true  114  times\n",
            "The hypothses was in fact true  64 times\n",
            "The probablity that the hypothsis is in fact true if the method says so is\n",
            "0.5614035087719298\n"
          ]
        }
      ],
      "source": [
        "import random\n",
        "\n",
        "\n",
        "# this value is the probablity that our method will say \n",
        "# that a hypothsis is true, if it is in fact false.\n",
        "my_p_value = 0.04 # value like in the tutorial exercise \n",
        "\n",
        "# This function takes a boolean (actual truth value of a given hypothsis)\n",
        "# and returns a boolean (the predicted truth value of the hypthesis according to the method).\n",
        "def hypothsis_testing_method(hypothesis):\n",
        "    \n",
        "    # This means that whenever the hypothsis is true\n",
        "    # the method will predict so\n",
        "    if hypothesis is True:\n",
        "        return True\n",
        "    \n",
        "    \n",
        "    # This means that whenever the hypothsis is false\n",
        "    # the method will say its false (1 - my_p_value) of the times   \n",
        "    else:    \n",
        "        random_bool = random.random() > my_p_value\n",
        "        return not random_bool\n",
        "        \n",
        "    \n",
        "# The number of hypothses we are going to check\n",
        "hypothses_num = 1300\n",
        "\n",
        "# the rate of true hypothses among them\n",
        "rate_of_true_hypothses = 0.038 # like in the tutorial exercise \n",
        "\n",
        "#we will cuont these integers in our experiment\n",
        "true_hypothses = 0\n",
        "false_hypothses = 0\n",
        "method_predicted_true = 0\n",
        "method_predicted_false = 0\n",
        "\n",
        "for i in range(hypothses_num):\n",
        "    \n",
        "    # deciding if the current hypothsis is true or false\n",
        "    current_hypothesis = random.random() < rate_of_true_hypothses\n",
        "    \n",
        "    if current_hypothesis:\n",
        "        true_hypothses += 1\n",
        "    else: \n",
        "        false_hypothses += 1\n",
        "    \n",
        "    # Testing the current hypothsis with our method\n",
        "    if hypothsis_testing_method(current_hypothesis):\n",
        "        method_predicted_true += 1\n",
        "    \n",
        "    else:\n",
        "        method_predicted_false += 1\n",
        "    \n",
        "   \n",
        "print(\"Our method predicted true \",method_predicted_true, \" times\")\n",
        "print(\"The hypothses was in fact true \", true_hypothses, \"times\")\n",
        "print(\"The probablity that the hypothsis is in fact true if the method says so is\")\n",
        "print(true_hypothses/method_predicted_true)\n",
        "    "
      ]
    },
    {
      "cell_type": "code",
      "execution_count": null,
      "metadata": {},
      "outputs": [],
      "source": []
    },
    {
      "cell_type": "code",
      "execution_count": null,
      "metadata": {},
      "outputs": [],
      "source": []
    }
  ],
  "metadata": {
    "kernelspec": {
      "display_name": "Python (Pyodide)",
      "language": "python",
      "name": "python"
    },
    "language_info": {
      "codemirror_mode": {
        "name": "python",
        "version": 3
      },
      "file_extension": ".py",
      "mimetype": "text/x-python",
      "name": "python",
      "nbconvert_exporter": "python",
      "pygments_lexer": "ipython3",
      "version": "3.8"
    }
  },
  "nbformat": 4,
  "nbformat_minor": 4
}
